{
  "metadata": {
    "kernelspec": {
      "name": "python",
      "display_name": "Python (Pyodide)",
      "language": "python"
    },
    "language_info": {
      "codemirror_mode": {
        "name": "python",
        "version": 3
      },
      "file_extension": ".py",
      "mimetype": "text/x-python",
      "name": "python",
      "nbconvert_exporter": "python",
      "pygments_lexer": "ipython3",
      "version": "3.8"
    }
  },
  "nbformat_minor": 5,
  "nbformat": 4,
  "cells": [
    {
      "id": "34e889f9-09e5-448f-8665-eedea26b19e4",
      "cell_type": "markdown",
      "source": "# Programming Assignment #4\n",
      "metadata": {}
    },
    {
      "id": "b20069fa-1790-4d28-a662-3c4e2a39bba6",
      "cell_type": "markdown",
      "source": "## 1. Linear Regression using scikit-learn\n\nThe diamonds dataset contains the price, cut, color, and other characteristics of a sample of nearly 54,000 diamonds. This data can be used to predict the price of a diamond based on its characteristics. Use sklearn's LinearRegression() function to predict the price of a diamond from the diamond's carat and table values.\n\n- Import needed packages for regression.\n- Initialize and fit a multiple linear regression model.\n- Get the estimated intercept weight.\n- Get the estimated weights of the carat and table features.\n- Predict the price of a diamond with the user-input carat and table values.\n\nEx: If the input is:\n\n- 0.5\n- 60\n\nthe output should be:\n\n- Intercept is 1961.992\n- Weights for carat and table features are [7820.038  -74.301]\n- Predicted price is [1413.97]",
      "metadata": {}
    },
    {
      "id": "780628e3-e20c-4c2c-820e-48d682adcab3",
      "cell_type": "code",
      "source": "# Import needed packages for regression\nimport pandas as pd\nimport numpy as np\nfrom sklearn.linear_model import LinearRegression\n\n# Silence warning from sklearn\nimport warnings\nwarnings.filterwarnings('ignore')\n\n# Input feature values for a sample instance\ncarat = float(input())\ntable = float(input())\n\n# Load dataset\ndiamonds = pd.read_csv('diamonds.csv')\n\n# Define input and output features\nX = diamonds[['carat', 'table']]\ny = diamonds['price']\n\n# Initialize a multiple linear regression model\nmodel = LinearRegression()\n\n# Fit the multiple linear regression model to the input and output features\nmodel.fit(X, y)\n\n# Get estimated intercept weight\nintercept = model.intercept_\nprint('Intercept is', round(intercept, 3))\n\n# Get estimated weights for carat and table features\ncoefficients = model.coef_\nprint('Weights for carat and table features are', np.round(coefficients, 3))\n\n# Predict the price of a diamond with the user-input carat and table values\nprediction = model.predict([[carat, table]])\nprint('Predicted price is', np.round(prediction, 2))",
      "metadata": {
        "trusted": true
      },
      "outputs": [],
      "execution_count": null
    },
    {
      "id": "bc74160c-0366-4a16-b131-effedf232ce5",
      "cell_type": "markdown",
      "source": "## 2. Logistic Regression using scikit-learn\n\nThe **nbaallelo_log** file contains data on 126314 NBA games from 1947 to 2015. The dataset includes the features **pts, elo_i, win_equiv, and game_result**. Using the csv file **nbaallelo_log.csv** and scikit-learn's **LogisticRegression()** function, construct a logistic regression model to classify whether a team will win or lose a game based on the team's elo_i score.\n\n- Create a binary feature win for **game_result** with 0 for L and 1 for W\n- Use the **LogisticRegression()** function to construct a logistic regression model with **win** as the target and **elo_i** as the predictor\n- Print the weights and intercept of the fitted model\n- Find the proportion of instances correctly classified\n  \nNote: Use **ravel()** from **numpy** to flatten the second argument of **LogisticRegression.fit()** into a 1-D array.\n\nEx: If the program uses the file **nbaallelo_small.csv**, which contains 100 instances, the output is:\n\n- w1: [[3.64194406e-06]]\n- w0: [-2.80257471e-09]\n- 0.5",
      "metadata": {}
    },
    {
      "id": "ce173bcf-37ac-40e8-b3c9-575cf7989034",
      "cell_type": "code",
      "source": "# Import the necessary libraries\nimport pandas as pd\nimport numpy as np\nfrom sklearn.linear_model import LogisticRegression\nfrom sklearn.metrics import accuracy_score\n\n# Load nbaallelo_log.csv into a dataframe\nNBA = pd.read_csv('nbaallelo_log.csv')\n\n# Create binary feature for game_result with 0 for L and 1 for W\nNBA['win'] = NBA['game_result'].apply(lambda x: 1 if x == 'W' else 0)\n\n# Store relevant columns as variables\nX = NBA[['elo_i']]\ny = NBA[['win']].values.ravel()  # Flatten y to a 1-D array\n\n# Initialize and fit the logistic model using the LogisticRegression() function\nmodel = LogisticRegression()\nmodel.fit(X, y)\n\n# Print the weights for the fitted model\nprint('w1:', model.coef_)\n\n# Print the intercept of the fitted model\nprint('w0:', model.intercept_)\n\n# Find the proportion of instances correctly classified\npredictions = model.predict(X)\nscore = accuracy_score(y, predictions)\nprint(round(score, 3))\n",
      "metadata": {
        "trusted": true
      },
      "outputs": [],
      "execution_count": null
    },
    {
      "id": "a8380de5-1123-4ae4-a35e-7067ae25bb61",
      "cell_type": "markdown",
      "source": "## 3. Support Vector Classifier using scikit-learn\n\nThe heart dataset contains 13 health-related attributes from 303 patients and one attribute denoting whether or not the patient has heart disease. Using the file heart.csv and scikit-learn's LinearSVC() function, fit a support vector classifier to predict whether a patient has heart disease based on other health attributes.\n\n- Import the correct packages and functions.\n- Split the data into 75% training data and 25% testing data. Set random_state=123.\n- Initialize and fit a support vector classifier with C=0.2, a maximum of 500 iterations, and random_state=123.\n- Print the model weights.\n\nEx: If the program input is heart_small.csv, which contains 100 instances, the output is:\n\n0.6\n\nw0: [0.013]\nw1 and w2: [[ 0.361 -0.087]]",
      "metadata": {}
    },
    {
      "id": "08cfe80e-0a12-49fe-b251-5cc2d3defb93",
      "cell_type": "code",
      "source": "# Import the necessary packages\nimport pandas as pd\nimport numpy as np\nfrom sklearn.model_selection import train_test_split\nfrom sklearn.preprocessing import StandardScaler\nfrom sklearn.svm import LinearSVC\n\n# Load the dataset\nheart = pd.read_csv('heart.csv')\n\n# Input features: thalach and age\nX = heart[['thalach', 'age']]\n\n# Output feature: target\ny = heart[['target']]\n\n# Create training and testing data with 75% training data and 25% testing data\nX_train, X_test, y_train, y_test = train_test_split(\n    X, y, test_size=0.25, random_state=123\n)\n\n# Scale the input features\nscaler = StandardScaler()\nX_train = scaler.fit_transform(X_train)\nX_test = scaler.transform(X_test)\n\n# Initialize a support vector classifier with C=0.2 and a maximum of 500 iterations\nSVC = LinearSVC(C=0.2, max_iter=500, random_state=123)\n\n# Fit the support vector classifier according to the training data\nSVC.fit(X_train, np.ravel(y_train))\n\n# Evaluate model on testing data\nscore = SVC.score(X_test, np.ravel(y_test))\nprint(np.round(score, 3))\n\n# Print the model weights\n# w0 (intercept)\nprint('w0:', np.round(SVC.intercept_, 3))\n\n# w1 and w2 (coefficients for thalach and age)\nprint('w1 and w2:', np.round(SVC.coef_, 3))\nprint(\"Number of records in X_test:\", X_test.shape[0])\n",
      "metadata": {},
      "outputs": [],
      "execution_count": null
    },
    {
      "id": "ba71d1f1-8716-44a9-bf75-577b55c3ca82",
      "cell_type": "markdown",
      "source": "## 4. k-Nearest Neighbors using scikit-learn \nThe dataset SDSS contains 17 observational features and one class feature for 10000 deep sky objects observed by the Sloan Digital Sky Survey. Use sklearn's KNeighborsClassifier() function to perform kNN classification to classify each object by the object's redshift and u-g color.\n\n- Import the necessary modules for kNN classification\n- Create dataframe X with features redshift and u_g\n- Create dataframe y with feature class\n- Initialize a kNN model with k=3\n- Fit the model using the training data\n- Find the predicted classes for the test data\n- Calculate the accuracy score using the test data\n\nEx: If the feature u is used rather than u_g, the output is:\n- Accuracy score is 0.979",
      "metadata": {}
    },
    {
      "id": "4e2ceea9-ca61-4001-b0fa-5b0ef4b85f79",
      "cell_type": "code",
      "source": "# Import needed packages for classification\nimport pandas as pd\nimport numpy as np\nfrom sklearn.model_selection import train_test_split\nfrom sklearn.neighbors import KNeighborsClassifier\nfrom sklearn.naive_bayes import GaussianNB  # Import Naive Bayes\n\n# Import packages for evaluation\nfrom sklearn.metrics import accuracy_score\n\n# Load the dataset\nskySurvey = pd.read_csv('SDSS.csv')\n\n# Create a new feature from u - g\nskySurvey['u_g'] = skySurvey['u'] - skySurvey['g']\n\n# Create dataframe X with features redshift and u_g\nX = skySurvey[['redshift', 'u']]\n\n# Create dataframe y with feature class\ny = skySurvey[['class']]\n\nnp.random.seed(42)\n\n# Split data into training and test sets\nX_train, X_test, y_train, y_test = train_test_split(X, y, test_size=0.3)\n\n# Initialize model with k=3 for kNN\nskySurveyKnn = KNeighborsClassifier(n_neighbors=3)\n\n# Fit model using X_train and y_train\nskySurveyKnn.fit(X_train, np.ravel(y_train))\n\n# Find the predicted classes for X_test\ny_pred = skySurveyKnn.predict(X_test)\n\n# Calculate accuracy score for kNN\nscore = accuracy_score(y_test, y_pred)\n\n# Print accuracy score for kNN\nprint('kNN Accuracy score is ', end=\"\")\nprint('%.3f' % score)\n\n# Initialize and fit the Naive Bayes model\nnb_model = GaussianNB()            # Initialize Naive Bayes model\nnb_model.fit(X_train, np.ravel(y_train))  # Fit model using training data\n\n# Find the predicted classes for the training set\ny_train_pred = nb_model.predict(X_train)  # Predict classes for training set\n\n# Calculate training accuracy for Naive Bayes\ntrain_score = accuracy_score(y_train, y_train_pred)  # Calculate training accuracy\n\n# Print training accuracy for Naive Bayes\nprint('Naive Bayes Training accuracy score is ', end=\"\")\nprint('%.3f' % train_score)  # Print training accuracy\n\n# Check the shape of skySurvey after adding the new feature\nprint(\"Shape of skySurvey after adding u_g:\", skySurvey.shape)\n",
      "metadata": {},
      "outputs": [],
      "execution_count": null
    },
    {
      "id": "3eb2adb6-a4d7-4bcd-8777-2dd8e013d324",
      "cell_type": "markdown",
      "source": "## 5. Naive Bayes using scikit-learn ",
      "metadata": {}
    },
    {
      "id": "493350b7-85b8-486b-b3c8-797425525e8d",
      "cell_type": "markdown",
      "source": "The file SDSS contains 17 observational features and one class feature for 10000 deep sky objects observed by the Sloan Digital Sky Survey. Use sklearn's GaussianNB() function to perform Gaussian naive Bayes classification to classify each object by the object's redshift and u-g color.\n\n- Import the necessary modules for Gaussian naive Bayes classification\n- Create dataframe X with features redshift and u_g\n- Create dataframe y with feature class\n- Initialize a Gaussian naive Bayes model with the default parameters\n- Fit the model\n- Calculate the accuracy score\n\nNote: Use ravel() from numpy to flatten the second argument of GaussianNB.fit() into a 1-D array.\n\nEx: If the feature u is used rather than u_g, the output is:\n\n- Accuracy score is 0.987",
      "metadata": {}
    },
    {
      "id": "3604508a-dc4c-459b-9152-188228a5054d",
      "cell_type": "code",
      "source": "# Import the necessary modules\nimport pandas as pd\nimport numpy as np\nfrom sklearn.model_selection import train_test_split\nfrom sklearn.naive_bayes import GaussianNB\nfrom sklearn.metrics import accuracy_score\n\n# Load the dataset\nskySurvey = pd.read_csv('SDSS.csv')\n\n# Create a new feature from u - g\nskySurvey['u_g'] = skySurvey['u'] - skySurvey['g']\n\n# Create dataframe X with features redshift and u_g\nX = skySurvey[['redshift', 'u']]\n\n# Create dataframe y with feature class\ny = skySurvey[['class']]\n\n# Initialize a Gaussian naive Bayes model\nskySurveyNBModel = GaussianNB()\n\n# Split data into training and test sets\nX_train, X_test, y_train, y_test = train_test_split(X, y, test_size=0.3, random_state=42)\n\n# Fit the model\nskySurveyNBModel.fit(X_train, np.ravel(y_train))\n\n# Calculate the proportion of instances correctly classified\nscore = accuracy_score(y_test, skySurveyNBModel.predict(X_test))\n\n# Print accuracy score\nprint('Accuracy score is ', end=\"\")\nprint('%.3f' % score)",
      "metadata": {},
      "outputs": [],
      "execution_count": null
    },
    {
      "id": "47228886-e0e2-4536-914e-1315f59cab62",
      "cell_type": "markdown",
      "source": "## 6. Ensemble methods using scikit-learn ",
      "metadata": {}
    },
    {
      "id": "c1e30f1a-214f-4495-8468-74004e473a0e",
      "cell_type": "markdown",
      "source": "## 6.1. Bagging using scikit-learn \nThe msleep_clean dataset contains information on sleep habits for 47 mammals. Features include length of REM sleep, time spent awake, brain weight, and body weight.\n\n- Create a dataframe X containing the features awake, brainwt, and bodywt, in that order.\n- Create a dataframe y containing sleep_rem.\n- Initialize and fit a bagging regressor with 30 base estimators, a random state of 10, and oob_score=True.\n\nEx: If 10 base estimators are used, the output should be:\n\n0.2322\n\n[3.26   2.92   1.0333 2.3333 0.8    1.325  2.56   2.2667 0.8    2.38\n 3.     0.5333 3.175  2.9667 0.7    0.65   1.825  2.2667 2.     1.\n 0.6    1.1667 1.5    3.1    2.     1.9    4.15   1.3    0.75   1.2\n 2.025  1.45   3.0286 2.72   0.5    2.0333 1.12   2.     2.65   1.65\n 2.6667 2.3    1.45   0.58   2.625  1.6    0.74   1.3   ]",
      "metadata": {}
    },
    {
      "id": "b5f86c9b-5dca-4e2c-bc0d-44bcac54b914",
      "cell_type": "code",
      "source": "import numpy as np\nimport pandas as pd\nfrom sklearn.ensemble import BaggingRegressor\n\ndf = pd.read_csv('msleep_clean.csv')\n\n# Create a dataframe X containing the features awake, brainwt, and bodywt, in that order\nX = df[['awake', 'brainwt', 'bodywt']]\n\n# Create a dataframe y containing sleep_rem\ny = df[['sleep_rem']]\n\n# Initialize and fit bagging regressor with 30 base estimators, a random state of 10, and oob_score=True\nsleepModel = BaggingRegressor(\n    n_estimators=10, random_state=10, oob_score=True\n)\nsleepModel.fit(X, np.ravel(y))\n\n# Calculate out-of-bag accuracy\nprint(np.round(sleepModel.oob_score_, 4))\n\n# Calculate predictions from out-of-bag estimate\nprint(np.round(sleepModel.oob_prediction_, 4))\n",
      "metadata": {},
      "outputs": [],
      "execution_count": null
    },
    {
      "id": "de60ca02-5530-41e4-a7c6-d5862b8554f6",
      "cell_type": "markdown",
      "source": "## 6.2. Random forests using scikit-learn \nThe mpg_clean.csv dataset contains information on miles per gallon (mpg) and engine size for cars sold from 1970 through 1982. Dataframe X contains the input features mpg, cylinders, displacement, horsepower, weight, acceleration, and model_year. Dataframe y contains the output feature origin.\n\n- Initialize and fit a random forest classifier with a user-input number of decision trees, estimator, a user-input number of features considered at each split, max_features, and a random state of 123.\n- Calculate the prediction accuracy for the model.\n- Read the documentation for the permutation_importance function from scikit-learn's inspection module.\n- Calculate the permutation importance using the default parameters and a random state of 123.\n\nEx: When the input is\n\n5\n\n3\n\nthe output is:\n\n0.9796\n\n\n     | Feature          | Permutation Importance |\n     |------------------|------------------------|\n    2| displacement     | 0.453571               |\n    0| mpg              | 0.160204               |\n    4| weight           | 0.133673               |\n    3| horsepower       | 0.107653               |\n    5| acceleration     | 0.057143               |\n    6| model_year       | 0.051531               |\n    1| cylinders        | 0.012245               |\n\n\n",
      "metadata": {}
    },
    {
      "id": "a5ae41db-05ce-4c23-9bba-82024dc0d2bb",
      "cell_type": "code",
      "source": "import numpy as np\nimport pandas as pd\n\nfrom sklearn.ensemble import RandomForestClassifier\nfrom sklearn.inspection import permutation_importance\n\ndf = pd.read_csv('mpg_clean.csv')\n\n# Create a dataframe X containing the input features\nX = df.drop(columns=['name', 'origin'])\n# Create a dataframe y containing the output feature origin\ny = df[['origin']]\n\n# Get user-input n_estimators and max_features (ask with different values)\nestimators = int(input())\nmax_features = int(input())\n\n# Initialize and fit a random forest classifier with user-input number of decision trees, \n# user-input number of features considered at each split, and a random state of 123\nrfModel = # Your code here\n# Your code here\n\n# Calculate prediction accuracy\nscore = # Your code here\nprint(round(score, 4))\n\n# Calculate the permutation importance using the default parameters and a random state of 123\nresult = # Your code here\n\n# Variable importance table\nimportance_table = pd.DataFrame(\n    data={'feature': rfModel.feature_names_in_,'permutation importance': result.importances_mean}\n).sort_values('permutation importance', ascending=False)\n\nprint(importance_table)",
      "metadata": {
        "trusted": true
      },
      "outputs": [],
      "execution_count": null
    },
    {
      "id": "942139db-9cb7-410b-83c0-bacd96b7ebd4",
      "cell_type": "markdown",
      "source": "## 6.3. Boosting using scikit-learn \nThe mpg.csv dataset contains information on miles per gallon (mpg) and engine size for cars sold from 1970 through 1982.\n\n- Create a dataframe X containing the input features cylinders, weight, and mpg.\n- Create a dataframe y containing the output feature origin.\n- Initialize and fit an adaptive boosting classifier with a user-input learning rate lr and a random state of 123.\n- Initialize and fit a gradient boosting classifier with a user-input learning rate lr and a random state of 123.\n- Calculate the prediction accuracy for each model.\n\nEx: If the user-input learning rate is 0.6, the output is:\n\n0.7688\n\n0.995",
      "metadata": {}
    },
    {
      "id": "5ccfd231-868f-4499-907a-1fb23106738d",
      "cell_type": "code",
      "source": "import numpy as np\nimport pandas as pd\nfrom sklearn.ensemble import GradientBoostingClassifier\nfrom sklearn.ensemble import AdaBoostClassifier\n\nmpg = pd.read_csv('mpg.csv')\n\n# Create a dataframe X containing cylinders, weight, and mpg\n# Your code here\n\n# Create a dataframe y containing origin\n# Your code here\n\n# Get user-input learning rate\nlr = float(input())\n\n# Initialize and fit an adaptive boosting classifier with the user-input learning rate and a \n# random state of 123\nadaBoostModel = # Your code here\n# Your code here\n\n# Initialize and fit a gradient boosting classifier with the user-input learning rate and a \n# random state of 123\ngradientBoostModel = # Your code here\n# Your code here\n\n# Calculate the prediction accuracy for the adaptive boosting classifier\nadaBoostScore = # Your code here\nprint(round(adaBoostScore, 4))\n\n# Calculate the prediction accuracy for the gradient boosting classifier\ngradientBoostScore = # Your code here\nprint(round(gradientBoostScore, 4))",
      "metadata": {},
      "outputs": [],
      "execution_count": 20
    },
    {
      "id": "2e59e220-2de2-4030-9abd-4bd3a7143a60",
      "cell_type": "code",
      "source": "",
      "metadata": {},
      "outputs": [],
      "execution_count": null
    }
  ]
}