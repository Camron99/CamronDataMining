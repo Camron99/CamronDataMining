{
  "cells": [
    {
      "cell_type": "code",
      "source": [
        "# Import the packages\n",
        "import numpy as np\n",
        "\n",
        "# Load the transactions dataset\n",
        "import pandas as pd\n",
        "from mlxtend.preprocessing import TransactionEncoder\n",
        "from mlxtend.frequent_patterns import apriori, association_rules\n",
        "\n",
        "# Loading the data\n",
        "def load_dataset(path_to_data):\n",
        "    transactions = []\n",
        "    with open(path_to_data, 'r') as fid:\n",
        "        for line in fid:\n",
        "            transaction = line.strip().split(',')  # Split items by comma\n",
        "            transactions.append(transaction)       # Append the transaction to the list\n",
        "    return transactions\n",
        "\n",
        "path_to_data = \"transactions_data.txt\"\n",
        "dataset = load_dataset(path_to_data)\n",
        "print(\"Dataset Loaded:\")\n",
        "print(dataset)\n",
        "\n",
        "# Transform the data to a format suitable for the apriori function\n",
        "te = TransactionEncoder()\n",
        "te_ary = te.fit(dataset).transform(dataset)\n",
        "df = pd.DataFrame(te_ary, columns=te.columns_)\n",
        "\n",
        "# Apply the apriori algorithm\n",
        "frequent_itemsets = apriori(df, min_support=0.2, use_colnames=True)  # Set min_support to 0.2\n",
        "print(\"\\nFrequent Itemsets:\")\n",
        "print(frequent_itemsets)\n",
        "\n",
        "# Generate the association rules\n",
        "rules = association_rules(frequent_itemsets, metric=\"confidence\", min_threshold=0.5)  # Set metric to confidence and min_threshold to 0.5\n",
        "print(\"\\nAssociation Rules:\")\n",
        "print(rules)\n"
      ],
      "metadata": {
        "id": "RG6Lv6NnK36j",
        "outputId": "ce852d3d-4a02-4992-8fae-cb79804902f5",
        "colab": {
          "base_uri": "https://localhost:8080/"
        }
      },
      "execution_count": 5,
      "outputs": [
        {
          "output_type": "stream",
          "name": "stdout",
          "text": [
            "Dataset Loaded:\n",
            "[['Lime', 'Queso', 'Salsa', 'Salt', 'Tortilla chips'], ['Ranch dip', 'Salsa', 'Tortilla chips'], ['Queso', 'Tortilla chips'], ['Potato chips', 'Ranch dip'], ['Salsa', 'Tortilla chips'], ['Queso', 'Salsa', 'Tortilla chips'], ['Pita chips', 'Ranch dip'], ['Guacamole', 'Tortilla chips'], ['Guacamole', 'Queso', 'Salsa', 'Tortilla chips'], ['Pita chips', 'Salsa']]\n",
            "\n",
            "Frequent Itemsets:\n",
            "    support                        itemsets\n",
            "0       0.2                     (Guacamole)\n",
            "1       0.2                    (Pita chips)\n",
            "2       0.4                         (Queso)\n",
            "3       0.3                     (Ranch dip)\n",
            "4       0.6                         (Salsa)\n",
            "5       0.7                (Tortilla chips)\n",
            "6       0.2     (Guacamole, Tortilla chips)\n",
            "7       0.3                  (Salsa, Queso)\n",
            "8       0.4         (Queso, Tortilla chips)\n",
            "9       0.5         (Salsa, Tortilla chips)\n",
            "10      0.3  (Salsa, Queso, Tortilla chips)\n",
            "\n",
            "Association Rules:\n",
            "                antecedents              consequents  antecedent support  \\\n",
            "0               (Guacamole)         (Tortilla chips)                 0.2   \n",
            "1                   (Salsa)                  (Queso)                 0.6   \n",
            "2                   (Queso)                  (Salsa)                 0.4   \n",
            "3                   (Queso)         (Tortilla chips)                 0.4   \n",
            "4          (Tortilla chips)                  (Queso)                 0.7   \n",
            "5                   (Salsa)         (Tortilla chips)                 0.6   \n",
            "6          (Tortilla chips)                  (Salsa)                 0.7   \n",
            "7            (Queso, Salsa)         (Tortilla chips)                 0.3   \n",
            "8   (Salsa, Tortilla chips)                  (Queso)                 0.5   \n",
            "9   (Queso, Tortilla chips)                  (Salsa)                 0.4   \n",
            "10                  (Salsa)  (Queso, Tortilla chips)                 0.6   \n",
            "11                  (Queso)  (Salsa, Tortilla chips)                 0.4   \n",
            "\n",
            "    consequent support  support  confidence      lift  leverage  conviction  \\\n",
            "0                  0.7      0.2    1.000000  1.428571      0.06         inf   \n",
            "1                  0.4      0.3    0.500000  1.250000      0.06         1.2   \n",
            "2                  0.6      0.3    0.750000  1.250000      0.06         1.6   \n",
            "3                  0.7      0.4    1.000000  1.428571      0.12         inf   \n",
            "4                  0.4      0.4    0.571429  1.428571      0.12         1.4   \n",
            "5                  0.7      0.5    0.833333  1.190476      0.08         1.8   \n",
            "6                  0.6      0.5    0.714286  1.190476      0.08         1.4   \n",
            "7                  0.7      0.3    1.000000  1.428571      0.09         inf   \n",
            "8                  0.4      0.3    0.600000  1.500000      0.10         1.5   \n",
            "9                  0.6      0.3    0.750000  1.250000      0.06         1.6   \n",
            "10                 0.4      0.3    0.500000  1.250000      0.06         1.2   \n",
            "11                 0.5      0.3    0.750000  1.500000      0.10         2.0   \n",
            "\n",
            "    zhangs_metric  \n",
            "0        0.375000  \n",
            "1        0.500000  \n",
            "2        0.333333  \n",
            "3        0.500000  \n",
            "4        1.000000  \n",
            "5        0.400000  \n",
            "6        0.533333  \n",
            "7        0.428571  \n",
            "8        0.666667  \n",
            "9        0.333333  \n",
            "10       0.500000  \n",
            "11       0.555556  \n"
          ]
        },
        {
          "output_type": "stream",
          "name": "stderr",
          "text": [
            "/usr/local/lib/python3.10/dist-packages/ipykernel/ipkernel.py:283: DeprecationWarning: `should_run_async` will not call `transform_cell` automatically in the future. Please pass the result to `transformed_cell` argument and any exception that happen during thetransform in `preprocessing_exc_tuple` in IPython 7.17 and above.\n",
            "  and should_run_async(code)\n"
          ]
        }
      ]
    }
  ],
  "metadata": {
    "colab": {
      "name": "Welcome To Colab",
      "provenance": []
    },
    "kernelspec": {
      "display_name": "Python 3",
      "name": "python3"
    }
  },
  "nbformat": 4,
  "nbformat_minor": 0
}