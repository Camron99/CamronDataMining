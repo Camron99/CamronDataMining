{
  "metadata": {
    "kernelspec": {
      "name": "python",
      "display_name": "Python (Pyodide)",
      "language": "python"
    },
    "language_info": {
      "codemirror_mode": {
        "name": "python",
        "version": 3
      },
      "file_extension": ".py",
      "mimetype": "text/x-python",
      "name": "python",
      "nbconvert_exporter": "python",
      "pygments_lexer": "ipython3",
      "version": "3.8"
    }
  },
  "nbformat_minor": 5,
  "nbformat": 4,
  "cells": [
    {
      "id": "940d65bc-011d-4762-8f7c-d628f2a81bcd",
      "cell_type": "markdown",
      "source": "# Programming Assignment #5 ",
      "metadata": {}
    },
    {
      "id": "60ccdfcc-83fa-4eb2-a3b7-9671f72157e8",
      "cell_type": "markdown",
      "source": "## Association rule mining \n\nThe market basket transactions dataset (transactions_data.txt)contains list of items purchased by customer in each transaction.\n\n- load the transaction dataset file\n- use minimum support = 0.2 and use_colname=True in apriori method \n- select metric as confidence in association rules\n- use minimum threshold = 0.5\n\nEx: If the minimum support is 0.4, the metric is confidence and minimum threshold is 0.5 then some of the outputs are: \n- the least frequency of frequent 1-itemset is ['Queso'].\n- the support, confidence, and lift of rule, ['Queso'] -> ['Tortilla chips'] are:\n  - consequent support = 0.7\n  - support = 0.4\n  - confidence = 1.00\n  - lift = 1.42",
      "metadata": {}
    },
    {
      "id": "caeaf8cd",
      "cell_type": "code",
      "source": "# Import the packages \nimport numpy as np\n\n# Load the transactions dataset \nimport pandas as pd\nfrom mlxtend.preprocessing import TransactionEncoder\nfrom mlxtend.frequent_patterns import apriori, association_rules\n\n# Loading the data\ndef load_dataset(path_to_data):\n    transactions = []\n    with open(path_to_data, 'r') as fid:\n        for line in fid:\n            transaction = line.strip().split(',')  # Split items by comma\n            transactions.append(transaction)       # Append the transaction to the list\n    return transactions\n\npath_to_data = \"transactions_data.txt\"  \ndataset = load_dataset(path_to_data)\nprint(\"Dataset Loaded:\")\nprint(dataset)\n\n# Transform the data to a format suitable for the apriori function\nte = TransactionEncoder()\nte_ary = te.fit(dataset).transform(dataset)\ndf = pd.DataFrame(te_ary, columns=te.columns_)\n\n# Apply the apriori algorithm\nfrequent_itemsets = apriori(df, min_support=0.2, use_colnames=True)  # Set min_support to 0.2\nprint(\"\\nFrequent Itemsets:\")\nprint(frequent_itemsets)\n\n# Generate the association rules\nrules = association_rules(frequent_itemsets, metric=\"confidence\", min_threshold=0.5)  # Set metric to confidence and min_threshold to 0.5\nprint(\"\\nAssociation Rules:\")\nprint(rules)\n",
      "metadata": {
        "trusted": true
      },
      "outputs": [
        {
          "name": "stderr",
          "text": "<ipython-input-1-ef8ea771a9e9>:5: DeprecationWarning: \nPyarrow will become a required dependency of pandas in the next major release of pandas (pandas 3.0),\n(to allow more performant data types, such as the Arrow string type, and better interoperability with other libraries)\nbut was not found to be installed on your system.\nIf this would cause problems for you,\nplease provide us feedback at https://github.com/pandas-dev/pandas/issues/54466\n        \n  import pandas as pd\n",
          "output_type": "stream"
        },
        {
          "ename": "<class 'ModuleNotFoundError'>",
          "evalue": "No module named 'mlxtend'",
          "traceback": [
            "\u001b[0;31m---------------------------------------------------------------------------\u001b[0m",
            "\u001b[0;31mModuleNotFoundError\u001b[0m                       Traceback (most recent call last)",
            "Cell \u001b[0;32mIn[1], line 6\u001b[0m\n\u001b[1;32m      4\u001b[0m \u001b[38;5;66;03m# Load the transactions dataset \u001b[39;00m\n\u001b[1;32m      5\u001b[0m \u001b[38;5;28;01mimport\u001b[39;00m \u001b[38;5;21;01mpandas\u001b[39;00m \u001b[38;5;28;01mas\u001b[39;00m \u001b[38;5;21;01mpd\u001b[39;00m\n\u001b[0;32m----> 6\u001b[0m \u001b[38;5;28;01mfrom\u001b[39;00m \u001b[38;5;21;01mmlxtend\u001b[39;00m\u001b[38;5;21;01m.\u001b[39;00m\u001b[38;5;21;01mpreprocessing\u001b[39;00m \u001b[38;5;28;01mimport\u001b[39;00m TransactionEncoder\n\u001b[1;32m      7\u001b[0m \u001b[38;5;28;01mfrom\u001b[39;00m \u001b[38;5;21;01mmlxtend\u001b[39;00m\u001b[38;5;21;01m.\u001b[39;00m\u001b[38;5;21;01mfrequent_patterns\u001b[39;00m \u001b[38;5;28;01mimport\u001b[39;00m apriori, association_rules\n\u001b[1;32m      9\u001b[0m \u001b[38;5;66;03m# Loading the data\u001b[39;00m\n",
            "\u001b[0;31mModuleNotFoundError\u001b[0m: No module named 'mlxtend'"
          ],
          "output_type": "error"
        }
      ],
      "execution_count": 1
    },
    {
      "id": "68ca917b-ca08-4a79-80b5-f73385daee8f",
      "cell_type": "code",
      "source": "",
      "metadata": {
        "trusted": true
      },
      "outputs": [],
      "execution_count": null
    }
  ]
}